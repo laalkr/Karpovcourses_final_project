{
 "cells": [
  {
   "cell_type": "code",
   "execution_count": 1,
   "id": "70e34bcc",
   "metadata": {},
   "outputs": [],
   "source": [
    "import requests \n",
    "from urllib.parse import urlencode \n",
    "\n",
    "import pandas as pd\n",
    "\n",
    "import matplotlib.pyplot as plt\n",
    "import seaborn as sns\n",
    "%matplotlib inline\n",
    "plt.style.use('ggplot')\n",
    "\n",
    "import numpy as np\n",
    "from tqdm.auto import tqdm\n",
    "\n",
    "from scipy import stats\n",
    "from scipy.stats import norm\n",
    "\n",
    "import pandahouse as ph"
   ]
  },
  {
   "cell_type": "markdown",
   "id": "dbdc1d10",
   "metadata": {},
   "source": [
    "## Задание 1. A/B–тестирование"
   ]
  },
  {
   "cell_type": "markdown",
   "id": "8f0c62f3",
   "metadata": {},
   "source": [
    "Одной из основных задач аналитика в нашей команде является корректное проведение экспериментов. Для этого мы применяем метод A/B–тестирования. В ходе тестирования одной гипотезы целевой группе была предложена новая механика оплаты услуг на сайте, у контрольной группы оставалась базовая механика. В качестве задания Вам необходимо проанализировать итоги эксперимента и сделать вывод, стоит ли запускать новую механику оплаты на всех пользователей."
   ]
  },
  {
   "cell_type": "markdown",
   "id": "bbe003f6",
   "metadata": {},
   "source": [
    "*1. Считываю данные*"
   ]
  },
  {
   "cell_type": "code",
   "execution_count": 2,
   "id": "1a1e0e03",
   "metadata": {},
   "outputs": [],
   "source": [
    "def get_direct_url(url):\n",
    "    '''получить прямую ссылку на яндекс диске'''\n",
    "    \n",
    "    base_url = 'https://cloud-api.yandex.net/v1/disk/public/resources/download?'\n",
    "    final_url = base_url + urlencode(dict(public_key=url))\n",
    "    response = requests.get(final_url)\n",
    "    \n",
    "    return response.json()['href']"
   ]
  },
  {
   "cell_type": "code",
   "execution_count": 3,
   "id": "725fc77b",
   "metadata": {},
   "outputs": [],
   "source": [
    "groups = pd.read_csv(get_direct_url('https://disk.yandex.ru/d/58Us0DWOzuWAjg'), sep=';')\n",
    "groups_add = pd.read_csv(get_direct_url('https://disk.yandex.ru/d/3aARY-P9pfaksg'))\n",
    "active_studs = pd.read_csv(get_direct_url('https://disk.yandex.ru/d/prbgU-rZpiXVYg'))\n",
    "checks = pd.read_csv(get_direct_url('https://disk.yandex.ru/d/84hTmELphW2sqQ'), sep=';')"
   ]
  },
  {
   "cell_type": "markdown",
   "id": "1c3ce905",
   "metadata": {},
   "source": [
    "*2. Предварительный анализ данных.*\n",
    "\n",
    "*Смотрю на размеры таблиц, типы данных, наличие дубликатов и пропущенных значений.*"
   ]
  },
  {
   "cell_type": "code",
   "execution_count": 4,
   "id": "aab978aa",
   "metadata": {},
   "outputs": [
    {
     "data": {
      "text/html": [
       "<div>\n",
       "<style scoped>\n",
       "    .dataframe tbody tr th:only-of-type {\n",
       "        vertical-align: middle;\n",
       "    }\n",
       "\n",
       "    .dataframe tbody tr th {\n",
       "        vertical-align: top;\n",
       "    }\n",
       "\n",
       "    .dataframe thead th {\n",
       "        text-align: right;\n",
       "    }\n",
       "</style>\n",
       "<table border=\"1\" class=\"dataframe\">\n",
       "  <thead>\n",
       "    <tr style=\"text-align: right;\">\n",
       "      <th></th>\n",
       "      <th>id</th>\n",
       "      <th>grp</th>\n",
       "    </tr>\n",
       "  </thead>\n",
       "  <tbody>\n",
       "    <tr>\n",
       "      <th>0</th>\n",
       "      <td>1489</td>\n",
       "      <td>B</td>\n",
       "    </tr>\n",
       "    <tr>\n",
       "      <th>1</th>\n",
       "      <td>1627</td>\n",
       "      <td>A</td>\n",
       "    </tr>\n",
       "    <tr>\n",
       "      <th>2</th>\n",
       "      <td>1768</td>\n",
       "      <td>B</td>\n",
       "    </tr>\n",
       "    <tr>\n",
       "      <th>3</th>\n",
       "      <td>1783</td>\n",
       "      <td>B</td>\n",
       "    </tr>\n",
       "    <tr>\n",
       "      <th>4</th>\n",
       "      <td>1794</td>\n",
       "      <td>A</td>\n",
       "    </tr>\n",
       "  </tbody>\n",
       "</table>\n",
       "</div>"
      ],
      "text/plain": [
       "     id grp\n",
       "0  1489   B\n",
       "1  1627   A\n",
       "2  1768   B\n",
       "3  1783   B\n",
       "4  1794   A"
      ]
     },
     "execution_count": 4,
     "metadata": {},
     "output_type": "execute_result"
    }
   ],
   "source": [
    "# Таблица groups\n",
    "\n",
    "groups.head()"
   ]
  },
  {
   "cell_type": "code",
   "execution_count": 5,
   "id": "a02a9474",
   "metadata": {},
   "outputs": [
    {
     "data": {
      "text/plain": [
       "(74484, 2)"
      ]
     },
     "execution_count": 5,
     "metadata": {},
     "output_type": "execute_result"
    }
   ],
   "source": [
    "groups.shape"
   ]
  },
  {
   "cell_type": "code",
   "execution_count": 6,
   "id": "06f29629",
   "metadata": {},
   "outputs": [
    {
     "data": {
      "text/plain": [
       "id      int64\n",
       "grp    object\n",
       "dtype: object"
      ]
     },
     "execution_count": 6,
     "metadata": {},
     "output_type": "execute_result"
    }
   ],
   "source": [
    "groups.dtypes"
   ]
  },
  {
   "cell_type": "code",
   "execution_count": 7,
   "id": "40f69393",
   "metadata": {},
   "outputs": [
    {
     "data": {
      "text/html": [
       "<div>\n",
       "<style scoped>\n",
       "    .dataframe tbody tr th:only-of-type {\n",
       "        vertical-align: middle;\n",
       "    }\n",
       "\n",
       "    .dataframe tbody tr th {\n",
       "        vertical-align: top;\n",
       "    }\n",
       "\n",
       "    .dataframe thead th {\n",
       "        text-align: right;\n",
       "    }\n",
       "</style>\n",
       "<table border=\"1\" class=\"dataframe\">\n",
       "  <thead>\n",
       "    <tr style=\"text-align: right;\">\n",
       "      <th></th>\n",
       "      <th>id</th>\n",
       "      <th>grp</th>\n",
       "    </tr>\n",
       "  </thead>\n",
       "  <tbody>\n",
       "  </tbody>\n",
       "</table>\n",
       "</div>"
      ],
      "text/plain": [
       "Empty DataFrame\n",
       "Columns: [id, grp]\n",
       "Index: []"
      ]
     },
     "execution_count": 7,
     "metadata": {},
     "output_type": "execute_result"
    }
   ],
   "source": [
    "groups.loc[groups.duplicated()]"
   ]
  },
  {
   "cell_type": "code",
   "execution_count": 8,
   "id": "b4f466a0",
   "metadata": {},
   "outputs": [
    {
     "data": {
      "text/plain": [
       "True"
      ]
     },
     "execution_count": 8,
     "metadata": {},
     "output_type": "execute_result"
    }
   ],
   "source": [
    "groups.id.nunique()==groups.shape[0]\n",
    "\n",
    "# Дубликатов нет."
   ]
  },
  {
   "cell_type": "code",
   "execution_count": 9,
   "id": "4f579f67",
   "metadata": {},
   "outputs": [
    {
     "data": {
      "text/plain": [
       "id     0\n",
       "grp    0\n",
       "dtype: int64"
      ]
     },
     "execution_count": 9,
     "metadata": {},
     "output_type": "execute_result"
    }
   ],
   "source": [
    "groups.isna().sum()\n",
    "\n",
    "# Пропущенных значений нет."
   ]
  },
  {
   "cell_type": "code",
   "execution_count": 10,
   "id": "3a14f3ad",
   "metadata": {},
   "outputs": [
    {
     "data": {
      "text/plain": [
       "B    59813\n",
       "A    14671\n",
       "Name: grp, dtype: int64"
      ]
     },
     "execution_count": 10,
     "metadata": {},
     "output_type": "execute_result"
    }
   ],
   "source": [
    "groups.grp.value_counts()"
   ]
  },
  {
   "cell_type": "code",
   "execution_count": 11,
   "id": "d7f4ab92",
   "metadata": {},
   "outputs": [
    {
     "data": {
      "text/html": [
       "<div>\n",
       "<style scoped>\n",
       "    .dataframe tbody tr th:only-of-type {\n",
       "        vertical-align: middle;\n",
       "    }\n",
       "\n",
       "    .dataframe tbody tr th {\n",
       "        vertical-align: top;\n",
       "    }\n",
       "\n",
       "    .dataframe thead th {\n",
       "        text-align: right;\n",
       "    }\n",
       "</style>\n",
       "<table border=\"1\" class=\"dataframe\">\n",
       "  <thead>\n",
       "    <tr style=\"text-align: right;\">\n",
       "      <th></th>\n",
       "      <th>id</th>\n",
       "      <th>grp</th>\n",
       "    </tr>\n",
       "  </thead>\n",
       "  <tbody>\n",
       "    <tr>\n",
       "      <th>0</th>\n",
       "      <td>5694584</td>\n",
       "      <td>B</td>\n",
       "    </tr>\n",
       "    <tr>\n",
       "      <th>1</th>\n",
       "      <td>5694830</td>\n",
       "      <td>B</td>\n",
       "    </tr>\n",
       "    <tr>\n",
       "      <th>2</th>\n",
       "      <td>5695057</td>\n",
       "      <td>B</td>\n",
       "    </tr>\n",
       "    <tr>\n",
       "      <th>3</th>\n",
       "      <td>5698872</td>\n",
       "      <td>B</td>\n",
       "    </tr>\n",
       "    <tr>\n",
       "      <th>4</th>\n",
       "      <td>5699067</td>\n",
       "      <td>B</td>\n",
       "    </tr>\n",
       "  </tbody>\n",
       "</table>\n",
       "</div>"
      ],
      "text/plain": [
       "        id grp\n",
       "0  5694584   B\n",
       "1  5694830   B\n",
       "2  5695057   B\n",
       "3  5698872   B\n",
       "4  5699067   B"
      ]
     },
     "execution_count": 11,
     "metadata": {},
     "output_type": "execute_result"
    }
   ],
   "source": [
    "# Таблица groups_add\n",
    "\n",
    "groups_add.head()"
   ]
  },
  {
   "cell_type": "code",
   "execution_count": 12,
   "id": "8c3df758",
   "metadata": {},
   "outputs": [
    {
     "data": {
      "text/plain": [
       "(92, 2)"
      ]
     },
     "execution_count": 12,
     "metadata": {},
     "output_type": "execute_result"
    }
   ],
   "source": [
    "groups_add.shape"
   ]
  },
  {
   "cell_type": "code",
   "execution_count": 13,
   "id": "920d2150",
   "metadata": {},
   "outputs": [
    {
     "data": {
      "text/plain": [
       "id      int64\n",
       "grp    object\n",
       "dtype: object"
      ]
     },
     "execution_count": 13,
     "metadata": {},
     "output_type": "execute_result"
    }
   ],
   "source": [
    "groups_add.dtypes"
   ]
  },
  {
   "cell_type": "code",
   "execution_count": 14,
   "id": "927d0716",
   "metadata": {},
   "outputs": [
    {
     "data": {
      "text/html": [
       "<div>\n",
       "<style scoped>\n",
       "    .dataframe tbody tr th:only-of-type {\n",
       "        vertical-align: middle;\n",
       "    }\n",
       "\n",
       "    .dataframe tbody tr th {\n",
       "        vertical-align: top;\n",
       "    }\n",
       "\n",
       "    .dataframe thead th {\n",
       "        text-align: right;\n",
       "    }\n",
       "</style>\n",
       "<table border=\"1\" class=\"dataframe\">\n",
       "  <thead>\n",
       "    <tr style=\"text-align: right;\">\n",
       "      <th></th>\n",
       "      <th>id</th>\n",
       "      <th>grp</th>\n",
       "    </tr>\n",
       "  </thead>\n",
       "  <tbody>\n",
       "  </tbody>\n",
       "</table>\n",
       "</div>"
      ],
      "text/plain": [
       "Empty DataFrame\n",
       "Columns: [id, grp]\n",
       "Index: []"
      ]
     },
     "execution_count": 14,
     "metadata": {},
     "output_type": "execute_result"
    }
   ],
   "source": [
    "groups_add.loc[groups_add.duplicated()]"
   ]
  },
  {
   "cell_type": "code",
   "execution_count": 15,
   "id": "e895db17",
   "metadata": {},
   "outputs": [
    {
     "data": {
      "text/plain": [
       "True"
      ]
     },
     "execution_count": 15,
     "metadata": {},
     "output_type": "execute_result"
    }
   ],
   "source": [
    "groups_add.id.nunique()==groups_add.shape[0]\n",
    "\n",
    "# Дубликатов нет."
   ]
  },
  {
   "cell_type": "code",
   "execution_count": 16,
   "id": "74d62155",
   "metadata": {},
   "outputs": [
    {
     "data": {
      "text/plain": [
       "id     0\n",
       "grp    0\n",
       "dtype: int64"
      ]
     },
     "execution_count": 16,
     "metadata": {},
     "output_type": "execute_result"
    }
   ],
   "source": [
    "groups_add.isna().sum()\n",
    "\n",
    "# Пропущенных значений нет."
   ]
  },
  {
   "cell_type": "code",
   "execution_count": 17,
   "id": "a1bc5bd7",
   "metadata": {},
   "outputs": [
    {
     "data": {
      "text/plain": [
       "B    70\n",
       "A    22\n",
       "Name: grp, dtype: int64"
      ]
     },
     "execution_count": 17,
     "metadata": {},
     "output_type": "execute_result"
    }
   ],
   "source": [
    "groups_add.grp.value_counts()"
   ]
  },
  {
   "cell_type": "code",
   "execution_count": 18,
   "id": "d5ba2ea2",
   "metadata": {},
   "outputs": [
    {
     "data": {
      "text/html": [
       "<div>\n",
       "<style scoped>\n",
       "    .dataframe tbody tr th:only-of-type {\n",
       "        vertical-align: middle;\n",
       "    }\n",
       "\n",
       "    .dataframe tbody tr th {\n",
       "        vertical-align: top;\n",
       "    }\n",
       "\n",
       "    .dataframe thead th {\n",
       "        text-align: right;\n",
       "    }\n",
       "</style>\n",
       "<table border=\"1\" class=\"dataframe\">\n",
       "  <thead>\n",
       "    <tr style=\"text-align: right;\">\n",
       "      <th></th>\n",
       "      <th>student_id</th>\n",
       "    </tr>\n",
       "  </thead>\n",
       "  <tbody>\n",
       "    <tr>\n",
       "      <th>0</th>\n",
       "      <td>581585</td>\n",
       "    </tr>\n",
       "    <tr>\n",
       "      <th>1</th>\n",
       "      <td>5723133</td>\n",
       "    </tr>\n",
       "    <tr>\n",
       "      <th>2</th>\n",
       "      <td>3276743</td>\n",
       "    </tr>\n",
       "    <tr>\n",
       "      <th>3</th>\n",
       "      <td>4238589</td>\n",
       "    </tr>\n",
       "    <tr>\n",
       "      <th>4</th>\n",
       "      <td>4475369</td>\n",
       "    </tr>\n",
       "  </tbody>\n",
       "</table>\n",
       "</div>"
      ],
      "text/plain": [
       "   student_id\n",
       "0      581585\n",
       "1     5723133\n",
       "2     3276743\n",
       "3     4238589\n",
       "4     4475369"
      ]
     },
     "execution_count": 18,
     "metadata": {},
     "output_type": "execute_result"
    }
   ],
   "source": [
    "# Таблица active_studs\n",
    "\n",
    "active_studs.head()"
   ]
  },
  {
   "cell_type": "code",
   "execution_count": 19,
   "id": "fb060b66",
   "metadata": {},
   "outputs": [
    {
     "data": {
      "text/plain": [
       "(8341, 1)"
      ]
     },
     "execution_count": 19,
     "metadata": {},
     "output_type": "execute_result"
    }
   ],
   "source": [
    "active_studs.shape"
   ]
  },
  {
   "cell_type": "code",
   "execution_count": 20,
   "id": "83d1d544",
   "metadata": {},
   "outputs": [
    {
     "data": {
      "text/plain": [
       "8341"
      ]
     },
     "execution_count": 20,
     "metadata": {},
     "output_type": "execute_result"
    }
   ],
   "source": [
    "active_studs.student_id.nunique()"
   ]
  },
  {
   "cell_type": "code",
   "execution_count": 21,
   "id": "e95645d4",
   "metadata": {},
   "outputs": [
    {
     "data": {
      "text/plain": [
       "student_id    int64\n",
       "dtype: object"
      ]
     },
     "execution_count": 21,
     "metadata": {},
     "output_type": "execute_result"
    }
   ],
   "source": [
    "active_studs.dtypes"
   ]
  },
  {
   "cell_type": "code",
   "execution_count": 22,
   "id": "3fbd078f",
   "metadata": {},
   "outputs": [
    {
     "data": {
      "text/html": [
       "<div>\n",
       "<style scoped>\n",
       "    .dataframe tbody tr th:only-of-type {\n",
       "        vertical-align: middle;\n",
       "    }\n",
       "\n",
       "    .dataframe tbody tr th {\n",
       "        vertical-align: top;\n",
       "    }\n",
       "\n",
       "    .dataframe thead th {\n",
       "        text-align: right;\n",
       "    }\n",
       "</style>\n",
       "<table border=\"1\" class=\"dataframe\">\n",
       "  <thead>\n",
       "    <tr style=\"text-align: right;\">\n",
       "      <th></th>\n",
       "      <th>student_id</th>\n",
       "    </tr>\n",
       "  </thead>\n",
       "  <tbody>\n",
       "  </tbody>\n",
       "</table>\n",
       "</div>"
      ],
      "text/plain": [
       "Empty DataFrame\n",
       "Columns: [student_id]\n",
       "Index: []"
      ]
     },
     "execution_count": 22,
     "metadata": {},
     "output_type": "execute_result"
    }
   ],
   "source": [
    "active_studs.loc[active_studs.duplicated()]"
   ]
  },
  {
   "cell_type": "code",
   "execution_count": 23,
   "id": "9a5db78c",
   "metadata": {},
   "outputs": [
    {
     "data": {
      "text/plain": [
       "True"
      ]
     },
     "execution_count": 23,
     "metadata": {},
     "output_type": "execute_result"
    }
   ],
   "source": [
    "active_studs.student_id.nunique()==active_studs.shape[0]\n",
    "\n",
    "# Дубликатов нет."
   ]
  },
  {
   "cell_type": "code",
   "execution_count": 24,
   "id": "58c26864",
   "metadata": {},
   "outputs": [
    {
     "data": {
      "text/plain": [
       "student_id    0\n",
       "dtype: int64"
      ]
     },
     "execution_count": 24,
     "metadata": {},
     "output_type": "execute_result"
    }
   ],
   "source": [
    "active_studs.isna().sum()\n",
    "\n",
    "# Пропущенных значений нет."
   ]
  },
  {
   "cell_type": "code",
   "execution_count": 25,
   "id": "58fb413a",
   "metadata": {},
   "outputs": [
    {
     "data": {
      "text/html": [
       "<div>\n",
       "<style scoped>\n",
       "    .dataframe tbody tr th:only-of-type {\n",
       "        vertical-align: middle;\n",
       "    }\n",
       "\n",
       "    .dataframe tbody tr th {\n",
       "        vertical-align: top;\n",
       "    }\n",
       "\n",
       "    .dataframe thead th {\n",
       "        text-align: right;\n",
       "    }\n",
       "</style>\n",
       "<table border=\"1\" class=\"dataframe\">\n",
       "  <thead>\n",
       "    <tr style=\"text-align: right;\">\n",
       "      <th></th>\n",
       "      <th>student_id</th>\n",
       "      <th>rev</th>\n",
       "    </tr>\n",
       "  </thead>\n",
       "  <tbody>\n",
       "    <tr>\n",
       "      <th>0</th>\n",
       "      <td>1627</td>\n",
       "      <td>990.0</td>\n",
       "    </tr>\n",
       "    <tr>\n",
       "      <th>1</th>\n",
       "      <td>3185</td>\n",
       "      <td>690.0</td>\n",
       "    </tr>\n",
       "    <tr>\n",
       "      <th>2</th>\n",
       "      <td>25973</td>\n",
       "      <td>690.0</td>\n",
       "    </tr>\n",
       "    <tr>\n",
       "      <th>3</th>\n",
       "      <td>26280</td>\n",
       "      <td>690.0</td>\n",
       "    </tr>\n",
       "    <tr>\n",
       "      <th>4</th>\n",
       "      <td>100300</td>\n",
       "      <td>990.0</td>\n",
       "    </tr>\n",
       "  </tbody>\n",
       "</table>\n",
       "</div>"
      ],
      "text/plain": [
       "   student_id    rev\n",
       "0        1627  990.0\n",
       "1        3185  690.0\n",
       "2       25973  690.0\n",
       "3       26280  690.0\n",
       "4      100300  990.0"
      ]
     },
     "execution_count": 25,
     "metadata": {},
     "output_type": "execute_result"
    }
   ],
   "source": [
    "# Таблица checks\n",
    "\n",
    "checks.head()"
   ]
  },
  {
   "cell_type": "code",
   "execution_count": 26,
   "id": "417e6676",
   "metadata": {},
   "outputs": [
    {
     "data": {
      "text/plain": [
       "(541, 2)"
      ]
     },
     "execution_count": 26,
     "metadata": {},
     "output_type": "execute_result"
    }
   ],
   "source": [
    "checks.shape"
   ]
  },
  {
   "cell_type": "code",
   "execution_count": 27,
   "id": "c2f64d45",
   "metadata": {},
   "outputs": [
    {
     "data": {
      "text/plain": [
       "student_id      int64\n",
       "rev           float64\n",
       "dtype: object"
      ]
     },
     "execution_count": 27,
     "metadata": {},
     "output_type": "execute_result"
    }
   ],
   "source": [
    "checks.dtypes"
   ]
  },
  {
   "cell_type": "code",
   "execution_count": 28,
   "id": "3ecd10b7",
   "metadata": {},
   "outputs": [
    {
     "data": {
      "text/html": [
       "<div>\n",
       "<style scoped>\n",
       "    .dataframe tbody tr th:only-of-type {\n",
       "        vertical-align: middle;\n",
       "    }\n",
       "\n",
       "    .dataframe tbody tr th {\n",
       "        vertical-align: top;\n",
       "    }\n",
       "\n",
       "    .dataframe thead th {\n",
       "        text-align: right;\n",
       "    }\n",
       "</style>\n",
       "<table border=\"1\" class=\"dataframe\">\n",
       "  <thead>\n",
       "    <tr style=\"text-align: right;\">\n",
       "      <th></th>\n",
       "      <th>student_id</th>\n",
       "      <th>rev</th>\n",
       "    </tr>\n",
       "  </thead>\n",
       "  <tbody>\n",
       "  </tbody>\n",
       "</table>\n",
       "</div>"
      ],
      "text/plain": [
       "Empty DataFrame\n",
       "Columns: [student_id, rev]\n",
       "Index: []"
      ]
     },
     "execution_count": 28,
     "metadata": {},
     "output_type": "execute_result"
    }
   ],
   "source": [
    "checks.loc[checks.duplicated()]"
   ]
  },
  {
   "cell_type": "code",
   "execution_count": 29,
   "id": "58be3962",
   "metadata": {},
   "outputs": [
    {
     "data": {
      "text/plain": [
       "True"
      ]
     },
     "execution_count": 29,
     "metadata": {},
     "output_type": "execute_result"
    }
   ],
   "source": [
    "checks.student_id.nunique()==checks.shape[0]\n",
    "\n",
    "# Дубликатов нет."
   ]
  },
  {
   "cell_type": "code",
   "execution_count": 30,
   "id": "57fe198a",
   "metadata": {},
   "outputs": [
    {
     "data": {
      "text/plain": [
       "student_id    0\n",
       "rev           0\n",
       "dtype: int64"
      ]
     },
     "execution_count": 30,
     "metadata": {},
     "output_type": "execute_result"
    }
   ],
   "source": [
    "checks.isna().sum()\n",
    "\n",
    "# Пропущенных значений нет."
   ]
  },
  {
   "cell_type": "markdown",
   "id": "3fff3fec",
   "metadata": {},
   "source": [
    "*3. Предварительная обработка данных.*\n",
    "\n",
    "*Объединяю таблицы, фильтрую данные.*"
   ]
  },
  {
   "cell_type": "markdown",
   "id": "0c051dc6",
   "metadata": {},
   "source": [
    "*3.1 Объединяю df:*\n",
    "\n",
    "*groups - информация о принадлежности пользователя к контрольной или экспериментальной группе (А – контроль, B – целевая группа);*\n",
    "\n",
    "*groups_add - дополнительный файл с пользователями, который вам прислали спустя 2 дня после передачи данных.*"
   ]
  },
  {
   "cell_type": "code",
   "execution_count": 31,
   "id": "1e99b872",
   "metadata": {},
   "outputs": [],
   "source": [
    "concatenated_data = pd.concat([groups, groups_add], axis=0)"
   ]
  },
  {
   "cell_type": "code",
   "execution_count": 32,
   "id": "71451d01",
   "metadata": {},
   "outputs": [
    {
     "data": {
      "text/html": [
       "<div>\n",
       "<style scoped>\n",
       "    .dataframe tbody tr th:only-of-type {\n",
       "        vertical-align: middle;\n",
       "    }\n",
       "\n",
       "    .dataframe tbody tr th {\n",
       "        vertical-align: top;\n",
       "    }\n",
       "\n",
       "    .dataframe thead th {\n",
       "        text-align: right;\n",
       "    }\n",
       "</style>\n",
       "<table border=\"1\" class=\"dataframe\">\n",
       "  <thead>\n",
       "    <tr style=\"text-align: right;\">\n",
       "      <th></th>\n",
       "      <th>id</th>\n",
       "      <th>grp</th>\n",
       "    </tr>\n",
       "  </thead>\n",
       "  <tbody>\n",
       "    <tr>\n",
       "      <th>0</th>\n",
       "      <td>1489</td>\n",
       "      <td>B</td>\n",
       "    </tr>\n",
       "    <tr>\n",
       "      <th>1</th>\n",
       "      <td>1627</td>\n",
       "      <td>A</td>\n",
       "    </tr>\n",
       "    <tr>\n",
       "      <th>2</th>\n",
       "      <td>1768</td>\n",
       "      <td>B</td>\n",
       "    </tr>\n",
       "    <tr>\n",
       "      <th>3</th>\n",
       "      <td>1783</td>\n",
       "      <td>B</td>\n",
       "    </tr>\n",
       "    <tr>\n",
       "      <th>4</th>\n",
       "      <td>1794</td>\n",
       "      <td>A</td>\n",
       "    </tr>\n",
       "  </tbody>\n",
       "</table>\n",
       "</div>"
      ],
      "text/plain": [
       "     id grp\n",
       "0  1489   B\n",
       "1  1627   A\n",
       "2  1768   B\n",
       "3  1783   B\n",
       "4  1794   A"
      ]
     },
     "execution_count": 32,
     "metadata": {},
     "output_type": "execute_result"
    }
   ],
   "source": [
    "concatenated_data.head()"
   ]
  },
  {
   "cell_type": "code",
   "execution_count": 33,
   "id": "9023617b",
   "metadata": {},
   "outputs": [
    {
     "data": {
      "text/plain": [
       "(74576, 2)"
      ]
     },
     "execution_count": 33,
     "metadata": {},
     "output_type": "execute_result"
    }
   ],
   "source": [
    "concatenated_data.shape"
   ]
  },
  {
   "cell_type": "code",
   "execution_count": 34,
   "id": "e7658159",
   "metadata": {},
   "outputs": [
    {
     "data": {
      "text/plain": [
       "True"
      ]
     },
     "execution_count": 34,
     "metadata": {},
     "output_type": "execute_result"
    }
   ],
   "source": [
    "# Проверка.\n",
    "\n",
    "concatenated_data.shape[0] == groups.shape[0] + groups_add.shape[0]"
   ]
  },
  {
   "cell_type": "markdown",
   "id": "eca12215",
   "metadata": {},
   "source": [
    "*3.2*\n",
    "\n",
    "*В df active_studs находится информация о пользователях, которые зашли на платформу в дни проведения эксперимента (и их больше чем студентов, которые принимают участие в эксперименте).*\n",
    "\n",
    "*В df concatenated_data находится информация о пользователях, которые участвуют в эксперименте.*\n",
    "\n",
    "*Проверяю, все ли студенты из concatenated_data (разбивка по контрольной и экспериментальной группам) посетили платформу в дни эксперимента.*\n"
   ]
  },
  {
   "cell_type": "code",
   "execution_count": 35,
   "id": "de346735",
   "metadata": {},
   "outputs": [
    {
     "data": {
      "text/plain": [
       "8341"
      ]
     },
     "execution_count": 35,
     "metadata": {},
     "output_type": "execute_result"
    }
   ],
   "source": [
    "concatenated_data.loc[concatenated_data.id.isin(active_studs.student_id)].shape[0]\n",
    "\n",
    "# Из 74576 пользователей, которые потенциально участвуют в эксперименте, \n",
    "# только 8341 зашли на платформу в дни эксперимента."
   ]
  },
  {
   "cell_type": "code",
   "execution_count": 36,
   "id": "a9727fa4",
   "metadata": {},
   "outputs": [
    {
     "data": {
      "text/plain": [
       "66235"
      ]
     },
     "execution_count": 36,
     "metadata": {},
     "output_type": "execute_result"
    }
   ],
   "source": [
    "concatenated_data.loc[~concatenated_data.id.isin(active_studs.student_id)].shape[0]\n",
    "\n",
    "# Из эксперимента \"выбыло\" 66235 пользователя."
   ]
  },
  {
   "cell_type": "code",
   "execution_count": 37,
   "id": "1d39d089",
   "metadata": {},
   "outputs": [
    {
     "data": {
      "text/plain": [
       "True"
      ]
     },
     "execution_count": 37,
     "metadata": {},
     "output_type": "execute_result"
    }
   ],
   "source": [
    "# Проверка.\n",
    "\n",
    "concatenated_data.loc[concatenated_data.id.isin(active_studs.student_id)].shape[0] + concatenated_data.loc[~concatenated_data.id.isin(active_studs.student_id)].shape[0] == concatenated_data.shape[0]"
   ]
  },
  {
   "cell_type": "markdown",
   "id": "688edeb5",
   "metadata": {},
   "source": [
    "*3.3 Добавляю информацию об оплатах в дни проведения эксперимента из checks.*"
   ]
  },
  {
   "cell_type": "code",
   "execution_count": 38,
   "id": "c33d4820",
   "metadata": {},
   "outputs": [],
   "source": [
    "# Сохраняю информацию о пользователях, которые участвуют в эксперименте и посетили платформу в дни эксперимента, \n",
    "# в отдельный df.\n",
    "\n",
    "filtered_data = concatenated_data.loc[concatenated_data.id.isin(active_studs.student_id)]"
   ]
  },
  {
   "cell_type": "code",
   "execution_count": 39,
   "id": "5b282d5a",
   "metadata": {},
   "outputs": [
    {
     "data": {
      "text/html": [
       "<div>\n",
       "<style scoped>\n",
       "    .dataframe tbody tr th:only-of-type {\n",
       "        vertical-align: middle;\n",
       "    }\n",
       "\n",
       "    .dataframe tbody tr th {\n",
       "        vertical-align: top;\n",
       "    }\n",
       "\n",
       "    .dataframe thead th {\n",
       "        text-align: right;\n",
       "    }\n",
       "</style>\n",
       "<table border=\"1\" class=\"dataframe\">\n",
       "  <thead>\n",
       "    <tr style=\"text-align: right;\">\n",
       "      <th></th>\n",
       "      <th>id</th>\n",
       "      <th>grp</th>\n",
       "    </tr>\n",
       "  </thead>\n",
       "  <tbody>\n",
       "    <tr>\n",
       "      <th>1</th>\n",
       "      <td>1627</td>\n",
       "      <td>A</td>\n",
       "    </tr>\n",
       "    <tr>\n",
       "      <th>10</th>\n",
       "      <td>2085</td>\n",
       "      <td>B</td>\n",
       "    </tr>\n",
       "    <tr>\n",
       "      <th>12</th>\n",
       "      <td>2215</td>\n",
       "      <td>B</td>\n",
       "    </tr>\n",
       "    <tr>\n",
       "      <th>43</th>\n",
       "      <td>3391</td>\n",
       "      <td>A</td>\n",
       "    </tr>\n",
       "    <tr>\n",
       "      <th>45</th>\n",
       "      <td>3401</td>\n",
       "      <td>B</td>\n",
       "    </tr>\n",
       "  </tbody>\n",
       "</table>\n",
       "</div>"
      ],
      "text/plain": [
       "      id grp\n",
       "1   1627   A\n",
       "10  2085   B\n",
       "12  2215   B\n",
       "43  3391   A\n",
       "45  3401   B"
      ]
     },
     "execution_count": 39,
     "metadata": {},
     "output_type": "execute_result"
    }
   ],
   "source": [
    "filtered_data.head()"
   ]
  },
  {
   "cell_type": "code",
   "execution_count": 40,
   "id": "e2c8aa12",
   "metadata": {},
   "outputs": [
    {
     "data": {
      "text/plain": [
       "392"
      ]
     },
     "execution_count": 40,
     "metadata": {},
     "output_type": "execute_result"
    }
   ],
   "source": [
    "# Проверяю, сколько из них оплатили услуги.\n",
    "\n",
    "filtered_data.loc[filtered_data.id.isin(checks.student_id)].shape[0]\n",
    "\n",
    "# Из 8341 пользователей, участвующих в эксперименте и посетивших платформу в дни эксперимента, оплатило услуги 392."
   ]
  },
  {
   "cell_type": "code",
   "execution_count": 41,
   "id": "16bc1784",
   "metadata": {},
   "outputs": [
    {
     "data": {
      "text/plain": [
       "149"
      ]
     },
     "execution_count": 41,
     "metadata": {},
     "output_type": "execute_result"
    }
   ],
   "source": [
    "checks.loc[~checks.student_id.isin(filtered_data.id)].shape[0]\n",
    "\n",
    "# Пользователи, по которым нет информации об активности на платформе в дни эксперимента, но есть чеки об оплате."
   ]
  },
  {
   "cell_type": "code",
   "execution_count": 42,
   "id": "94048d10",
   "metadata": {},
   "outputs": [
    {
     "data": {
      "text/plain": [
       "149"
      ]
     },
     "execution_count": 42,
     "metadata": {},
     "output_type": "execute_result"
    }
   ],
   "source": [
    "# Проверяю, есть ли эти пользователи в таблице concatenated_data, которая содержит информацию о разбивке пользователей на группы.\n",
    "# Они действительно есть в этой таблице, что нормально, т.к. процесс выборки пользователей для эксперимента является случайным.\n",
    "\n",
    "concatenated_data.loc[concatenated_data.id.isin(checks.loc[~checks.student_id.isin(filtered_data.id)].student_id)].shape[0]"
   ]
  },
  {
   "cell_type": "markdown",
   "id": "1dcf33f1",
   "metadata": {},
   "source": [
    "\"Осталось\" 149 оплат, залогининых как оплаты, проведенные в дни эксперимента, но информации про активность этих пользователей в таблице active_studs нет.\n",
    "\n",
    "Есть вариант, что произошел сбой, и данные пользователи не попали в таблицу active_studs по каким-либо причинам.\n",
    "\n",
    "Другое предположение заключается в следующем: например, пользователь посетил сайт за несколько минут до начала эксперимента, перешел на страницу оплаты, у него ушло какое-то время на заполнение формы для оплаты, транзакция прошла как раз в момент \"выкатки\" эксперимента, поэтому чек этого пользователя попал в базу данных по эксперименту, в то время как \"активность\" не была \"зарегестрирована\". Т.К. нет более конкретной информации о том, что считается активностью,  длительности сессии, даты и времени транзакции и даты и времени начала эксперимента, нет возможности проверить это предположение. Но если это предположение верно, то эти 149 оплат были совершены до \"выкатки\" новой механики оплаты, исходя из чего не следует использовать данную информацию в дальнейшем анализе.\n",
    "\n",
    "В дальнейшем анализе работаю с пользователями, которые:\n",
    "1. участвуют в эксперименте, т.е. которые отнесены либо к контрольной, либо к экспериментальной группе;\n",
    "2. зашли на платформу в дни проведения эксперимента."
   ]
  },
  {
   "cell_type": "markdown",
   "id": "dd2d6213",
   "metadata": {},
   "source": [
    "Использую left join к filtered_data."
   ]
  },
  {
   "cell_type": "code",
   "execution_count": 43,
   "id": "60c2466f",
   "metadata": {},
   "outputs": [],
   "source": [
    "data = filtered_data.merge(checks, how='left', left_on=['id'], right_on=['student_id']).drop(columns='student_id')"
   ]
  },
  {
   "cell_type": "code",
   "execution_count": 44,
   "id": "ad4bb831",
   "metadata": {},
   "outputs": [
    {
     "data": {
      "text/plain": [
       "(8341, 3)"
      ]
     },
     "execution_count": 44,
     "metadata": {},
     "output_type": "execute_result"
    }
   ],
   "source": [
    "data.shape"
   ]
  },
  {
   "cell_type": "code",
   "execution_count": 45,
   "id": "a035baca",
   "metadata": {},
   "outputs": [
    {
     "data": {
      "text/html": [
       "<div>\n",
       "<style scoped>\n",
       "    .dataframe tbody tr th:only-of-type {\n",
       "        vertical-align: middle;\n",
       "    }\n",
       "\n",
       "    .dataframe tbody tr th {\n",
       "        vertical-align: top;\n",
       "    }\n",
       "\n",
       "    .dataframe thead th {\n",
       "        text-align: right;\n",
       "    }\n",
       "</style>\n",
       "<table border=\"1\" class=\"dataframe\">\n",
       "  <thead>\n",
       "    <tr style=\"text-align: right;\">\n",
       "      <th></th>\n",
       "      <th>id</th>\n",
       "      <th>grp</th>\n",
       "      <th>rev</th>\n",
       "    </tr>\n",
       "  </thead>\n",
       "  <tbody>\n",
       "    <tr>\n",
       "      <th>0</th>\n",
       "      <td>1627</td>\n",
       "      <td>A</td>\n",
       "      <td>990.0</td>\n",
       "    </tr>\n",
       "    <tr>\n",
       "      <th>1</th>\n",
       "      <td>2085</td>\n",
       "      <td>B</td>\n",
       "      <td>NaN</td>\n",
       "    </tr>\n",
       "    <tr>\n",
       "      <th>2</th>\n",
       "      <td>2215</td>\n",
       "      <td>B</td>\n",
       "      <td>NaN</td>\n",
       "    </tr>\n",
       "    <tr>\n",
       "      <th>3</th>\n",
       "      <td>3391</td>\n",
       "      <td>A</td>\n",
       "      <td>NaN</td>\n",
       "    </tr>\n",
       "    <tr>\n",
       "      <th>4</th>\n",
       "      <td>3401</td>\n",
       "      <td>B</td>\n",
       "      <td>NaN</td>\n",
       "    </tr>\n",
       "  </tbody>\n",
       "</table>\n",
       "</div>"
      ],
      "text/plain": [
       "     id grp    rev\n",
       "0  1627   A  990.0\n",
       "1  2085   B    NaN\n",
       "2  2215   B    NaN\n",
       "3  3391   A    NaN\n",
       "4  3401   B    NaN"
      ]
     },
     "execution_count": 45,
     "metadata": {},
     "output_type": "execute_result"
    }
   ],
   "source": [
    "data.head()"
   ]
  },
  {
   "cell_type": "code",
   "execution_count": 46,
   "id": "54e52d32",
   "metadata": {},
   "outputs": [
    {
     "data": {
      "text/plain": [
       "B    6803\n",
       "A    1538\n",
       "Name: grp, dtype: int64"
      ]
     },
     "execution_count": 46,
     "metadata": {},
     "output_type": "execute_result"
    }
   ],
   "source": [
    "# Проверяю сколько переменных относится к тому или иному уровню по колонке grp.\n",
    "\n",
    "data.grp.value_counts()\n",
    "\n",
    "# В целевую группу попало 6803 пользователя, в контрульную - 1538, размеры выборок сильно отличаются, \n",
    "# большая разница в размерах выборок влияет на мощность статистических критериев, это нужно учитывать."
   ]
  },
  {
   "cell_type": "code",
   "execution_count": 47,
   "id": "7fa1d92f",
   "metadata": {},
   "outputs": [],
   "source": [
    "# Заполняю пропущенные значения.\n",
    "\n",
    "data.rev = data.rev.fillna(0)"
   ]
  },
  {
   "cell_type": "code",
   "execution_count": 48,
   "id": "30925f32",
   "metadata": {},
   "outputs": [
    {
     "data": {
      "text/plain": [
       "B    314\n",
       "A     78\n",
       "Name: grp, dtype: int64"
      ]
     },
     "execution_count": 48,
     "metadata": {},
     "output_type": "execute_result"
    }
   ],
   "source": [
    "# Проверяю сколько пользователей оплатили услуги в контрольной и целевой группах.\n",
    "\n",
    "data \\\n",
    "    .query('rev!=0') \\\n",
    "    .grp.value_counts()\n",
    "\n",
    "# В целевой группе услуги оплатило 314 пользователя, в контрольной - 78."
   ]
  },
  {
   "cell_type": "markdown",
   "id": "6383dd07",
   "metadata": {},
   "source": [
    "*4. Анализ итогов эксперимента.*"
   ]
  },
  {
   "cell_type": "markdown",
   "id": "90b76e46",
   "metadata": {},
   "source": [
    "Подсчет метрик."
   ]
  },
  {
   "cell_type": "code",
   "execution_count": 49,
   "id": "4d4ed367",
   "metadata": {},
   "outputs": [
    {
     "data": {
      "text/html": [
       "<div>\n",
       "<style scoped>\n",
       "    .dataframe tbody tr th:only-of-type {\n",
       "        vertical-align: middle;\n",
       "    }\n",
       "\n",
       "    .dataframe tbody tr th {\n",
       "        vertical-align: top;\n",
       "    }\n",
       "\n",
       "    .dataframe thead th {\n",
       "        text-align: right;\n",
       "    }\n",
       "</style>\n",
       "<table border=\"1\" class=\"dataframe\">\n",
       "  <thead>\n",
       "    <tr style=\"text-align: right;\">\n",
       "      <th></th>\n",
       "      <th>grp</th>\n",
       "      <th>visits</th>\n",
       "      <th>buys</th>\n",
       "    </tr>\n",
       "  </thead>\n",
       "  <tbody>\n",
       "    <tr>\n",
       "      <th>0</th>\n",
       "      <td>A</td>\n",
       "      <td>1538</td>\n",
       "      <td>78</td>\n",
       "    </tr>\n",
       "    <tr>\n",
       "      <th>1</th>\n",
       "      <td>B</td>\n",
       "      <td>6803</td>\n",
       "      <td>314</td>\n",
       "    </tr>\n",
       "  </tbody>\n",
       "</table>\n",
       "</div>"
      ],
      "text/plain": [
       "  grp  visits  buys\n",
       "0   A    1538    78\n",
       "1   B    6803   314"
      ]
     },
     "execution_count": 49,
     "metadata": {},
     "output_type": "execute_result"
    }
   ],
   "source": [
    "# Подсчет количества посетилей(visits) и покупателей(buys).\n",
    "\n",
    "data_metrics = data \\\n",
    "            .groupby('grp', as_index=False) \\\n",
    "            .agg({'id': 'count'}) \\\n",
    "            .rename(columns={'id':'visits'}).merge (\n",
    "          data \\\n",
    "            .query('rev>0') \\\n",
    "            .groupby('grp', as_index=False) \\\n",
    "            .agg({'id': 'count'}) \\\n",
    "            .rename(columns={'id':'buys'}), on='grp')\n",
    "data_metrics"
   ]
  },
  {
   "cell_type": "code",
   "execution_count": 50,
   "id": "86c113ec",
   "metadata": {},
   "outputs": [
    {
     "data": {
      "text/html": [
       "<div>\n",
       "<style scoped>\n",
       "    .dataframe tbody tr th:only-of-type {\n",
       "        vertical-align: middle;\n",
       "    }\n",
       "\n",
       "    .dataframe tbody tr th {\n",
       "        vertical-align: top;\n",
       "    }\n",
       "\n",
       "    .dataframe thead th {\n",
       "        text-align: right;\n",
       "    }\n",
       "</style>\n",
       "<table border=\"1\" class=\"dataframe\">\n",
       "  <thead>\n",
       "    <tr style=\"text-align: right;\">\n",
       "      <th></th>\n",
       "      <th>grp</th>\n",
       "      <th>visits</th>\n",
       "      <th>buys</th>\n",
       "      <th>CR</th>\n",
       "    </tr>\n",
       "  </thead>\n",
       "  <tbody>\n",
       "    <tr>\n",
       "      <th>0</th>\n",
       "      <td>A</td>\n",
       "      <td>1538</td>\n",
       "      <td>78</td>\n",
       "      <td>0.050715</td>\n",
       "    </tr>\n",
       "    <tr>\n",
       "      <th>1</th>\n",
       "      <td>B</td>\n",
       "      <td>6803</td>\n",
       "      <td>314</td>\n",
       "      <td>0.046156</td>\n",
       "    </tr>\n",
       "  </tbody>\n",
       "</table>\n",
       "</div>"
      ],
      "text/plain": [
       "  grp  visits  buys        CR\n",
       "0   A    1538    78  0.050715\n",
       "1   B    6803   314  0.046156"
      ]
     },
     "execution_count": 50,
     "metadata": {},
     "output_type": "execute_result"
    }
   ],
   "source": [
    "# Подсчет CR.\n",
    "\n",
    "data_metrics['CR'] = data_metrics.buys/data_metrics.visits\n",
    "data_metrics"
   ]
  },
  {
   "cell_type": "code",
   "execution_count": 51,
   "id": "b4504ae8",
   "metadata": {},
   "outputs": [
    {
     "data": {
      "text/html": [
       "<div>\n",
       "<style scoped>\n",
       "    .dataframe tbody tr th:only-of-type {\n",
       "        vertical-align: middle;\n",
       "    }\n",
       "\n",
       "    .dataframe tbody tr th {\n",
       "        vertical-align: top;\n",
       "    }\n",
       "\n",
       "    .dataframe thead th {\n",
       "        text-align: right;\n",
       "    }\n",
       "</style>\n",
       "<table border=\"1\" class=\"dataframe\">\n",
       "  <thead>\n",
       "    <tr style=\"text-align: right;\">\n",
       "      <th></th>\n",
       "      <th>grp</th>\n",
       "      <th>visits</th>\n",
       "      <th>buys</th>\n",
       "      <th>CR</th>\n",
       "      <th>revenue</th>\n",
       "    </tr>\n",
       "  </thead>\n",
       "  <tbody>\n",
       "    <tr>\n",
       "      <th>0</th>\n",
       "      <td>A</td>\n",
       "      <td>1538</td>\n",
       "      <td>78</td>\n",
       "      <td>0.050715</td>\n",
       "      <td>72820.0</td>\n",
       "    </tr>\n",
       "    <tr>\n",
       "      <th>1</th>\n",
       "      <td>B</td>\n",
       "      <td>6803</td>\n",
       "      <td>314</td>\n",
       "      <td>0.046156</td>\n",
       "      <td>394974.0</td>\n",
       "    </tr>\n",
       "  </tbody>\n",
       "</table>\n",
       "</div>"
      ],
      "text/plain": [
       "  grp  visits  buys        CR   revenue\n",
       "0   A    1538    78  0.050715   72820.0\n",
       "1   B    6803   314  0.046156  394974.0"
      ]
     },
     "execution_count": 51,
     "metadata": {},
     "output_type": "execute_result"
    }
   ],
   "source": [
    "# Подсчет revenue.\n",
    "\n",
    "data_metrics = data_metrics.merge(data \\\n",
    "                                        .groupby('grp', as_index=False) \\\n",
    "                                        .agg({'rev': 'sum'}).round(2) \\\n",
    "                                        .rename(columns={'rev':'revenue'}),\n",
    "                            on='grp')\n",
    "data_metrics"
   ]
  },
  {
   "cell_type": "code",
   "execution_count": 52,
   "id": "8f53cd0c",
   "metadata": {},
   "outputs": [],
   "source": [
    "# Подсчет средний чек (aver_check).\n",
    "\n",
    "data_metrics['aver_check'] = round(data_metrics.revenue / data_metrics.buys, 2)"
   ]
  },
  {
   "cell_type": "code",
   "execution_count": 53,
   "id": "ef7e6af7",
   "metadata": {},
   "outputs": [],
   "source": [
    "# Подсчет повторных покупок (в данном случае каждый покупатель совершил по одной покупке).\n",
    "\n",
    "data_metrics['repeat_purchases'] = data_metrics.buys / data_metrics.buys"
   ]
  },
  {
   "cell_type": "code",
   "execution_count": 54,
   "id": "cba016be",
   "metadata": {},
   "outputs": [],
   "source": [
    "# Подсчет ARPPU.\n",
    "\n",
    "data_metrics['ARPPU'] = data_metrics.aver_check * data_metrics.repeat_purchases"
   ]
  },
  {
   "cell_type": "code",
   "execution_count": 55,
   "id": "0577022e",
   "metadata": {},
   "outputs": [],
   "source": [
    "# Подсчет ARPU.\n",
    "\n",
    "data_metrics['ARPU'] = round(data_metrics.CR * data_metrics.ARPPU, 2)"
   ]
  },
  {
   "cell_type": "code",
   "execution_count": 56,
   "id": "700edd7c",
   "metadata": {},
   "outputs": [
    {
     "data": {
      "text/html": [
       "<div>\n",
       "<style scoped>\n",
       "    .dataframe tbody tr th:only-of-type {\n",
       "        vertical-align: middle;\n",
       "    }\n",
       "\n",
       "    .dataframe tbody tr th {\n",
       "        vertical-align: top;\n",
       "    }\n",
       "\n",
       "    .dataframe thead th {\n",
       "        text-align: right;\n",
       "    }\n",
       "</style>\n",
       "<table border=\"1\" class=\"dataframe\">\n",
       "  <thead>\n",
       "    <tr style=\"text-align: right;\">\n",
       "      <th></th>\n",
       "      <th>grp</th>\n",
       "      <th>visits</th>\n",
       "      <th>buys</th>\n",
       "      <th>CR</th>\n",
       "      <th>revenue</th>\n",
       "      <th>aver_check</th>\n",
       "      <th>repeat_purchases</th>\n",
       "      <th>ARPPU</th>\n",
       "      <th>ARPU</th>\n",
       "    </tr>\n",
       "  </thead>\n",
       "  <tbody>\n",
       "    <tr>\n",
       "      <th>0</th>\n",
       "      <td>A</td>\n",
       "      <td>1538</td>\n",
       "      <td>78</td>\n",
       "      <td>0.050715</td>\n",
       "      <td>72820.0</td>\n",
       "      <td>933.59</td>\n",
       "      <td>1.0</td>\n",
       "      <td>933.59</td>\n",
       "      <td>47.35</td>\n",
       "    </tr>\n",
       "    <tr>\n",
       "      <th>1</th>\n",
       "      <td>B</td>\n",
       "      <td>6803</td>\n",
       "      <td>314</td>\n",
       "      <td>0.046156</td>\n",
       "      <td>394974.0</td>\n",
       "      <td>1257.88</td>\n",
       "      <td>1.0</td>\n",
       "      <td>1257.88</td>\n",
       "      <td>58.06</td>\n",
       "    </tr>\n",
       "  </tbody>\n",
       "</table>\n",
       "</div>"
      ],
      "text/plain": [
       "  grp  visits  buys        CR   revenue  aver_check  repeat_purchases  \\\n",
       "0   A    1538    78  0.050715   72820.0      933.59               1.0   \n",
       "1   B    6803   314  0.046156  394974.0     1257.88               1.0   \n",
       "\n",
       "     ARPPU   ARPU  \n",
       "0   933.59  47.35  \n",
       "1  1257.88  58.06  "
      ]
     },
     "execution_count": 56,
     "metadata": {},
     "output_type": "execute_result"
    }
   ],
   "source": [
    "data_metrics"
   ]
  },
  {
   "cell_type": "markdown",
   "id": "88dc76f5",
   "metadata": {},
   "source": [
    "В целевой группе средний чек, ARPU, ARPPU выше, чем в контрольной.\n",
    "Проверяю, статзначимы различия среднего чека между группами или нет."
   ]
  },
  {
   "cell_type": "code",
   "execution_count": 57,
   "id": "5cf7ff00",
   "metadata": {},
   "outputs": [
    {
     "data": {
      "text/html": [
       "<div>\n",
       "<style scoped>\n",
       "    .dataframe tbody tr th:only-of-type {\n",
       "        vertical-align: middle;\n",
       "    }\n",
       "\n",
       "    .dataframe tbody tr th {\n",
       "        vertical-align: top;\n",
       "    }\n",
       "\n",
       "    .dataframe thead th {\n",
       "        text-align: right;\n",
       "    }\n",
       "</style>\n",
       "<table border=\"1\" class=\"dataframe\">\n",
       "  <thead>\n",
       "    <tr style=\"text-align: right;\">\n",
       "      <th>grp</th>\n",
       "      <th>A</th>\n",
       "      <th>B</th>\n",
       "    </tr>\n",
       "  </thead>\n",
       "  <tbody>\n",
       "    <tr>\n",
       "      <th>count</th>\n",
       "      <td>78.000000</td>\n",
       "      <td>314.000000</td>\n",
       "    </tr>\n",
       "    <tr>\n",
       "      <th>mean</th>\n",
       "      <td>933.589744</td>\n",
       "      <td>1257.878992</td>\n",
       "    </tr>\n",
       "    <tr>\n",
       "      <th>std</th>\n",
       "      <td>919.932711</td>\n",
       "      <td>790.864254</td>\n",
       "    </tr>\n",
       "    <tr>\n",
       "      <th>min</th>\n",
       "      <td>199.000000</td>\n",
       "      <td>199.000000</td>\n",
       "    </tr>\n",
       "    <tr>\n",
       "      <th>25%</th>\n",
       "      <td>290.000000</td>\n",
       "      <td>511.750000</td>\n",
       "    </tr>\n",
       "    <tr>\n",
       "      <th>50%</th>\n",
       "      <td>585.000000</td>\n",
       "      <td>1140.000000</td>\n",
       "    </tr>\n",
       "    <tr>\n",
       "      <th>75%</th>\n",
       "      <td>1114.750000</td>\n",
       "      <td>1900.000000</td>\n",
       "    </tr>\n",
       "    <tr>\n",
       "      <th>max</th>\n",
       "      <td>3660.000000</td>\n",
       "      <td>4650.000000</td>\n",
       "    </tr>\n",
       "  </tbody>\n",
       "</table>\n",
       "</div>"
      ],
      "text/plain": [
       "grp              A            B\n",
       "count    78.000000   314.000000\n",
       "mean    933.589744  1257.878992\n",
       "std     919.932711   790.864254\n",
       "min     199.000000   199.000000\n",
       "25%     290.000000   511.750000\n",
       "50%     585.000000  1140.000000\n",
       "75%    1114.750000  1900.000000\n",
       "max    3660.000000  4650.000000"
      ]
     },
     "execution_count": 57,
     "metadata": {},
     "output_type": "execute_result"
    }
   ],
   "source": [
    "# Смотрим на значения описательных статистик.\n",
    "# Для контрольной группы А медиана и среднее значение сильно отличаются -> \n",
    "# есть выбросы, которые \"оттягивают\" среднее значение в бОльшую сторону. \n",
    "data \\\n",
    "    .query('rev>0') \\\n",
    "    .pivot(index='id', columns='grp', values='rev').describe()"
   ]
  },
  {
   "cell_type": "code",
   "execution_count": 58,
   "id": "d807478f",
   "metadata": {},
   "outputs": [
    {
     "data": {
      "text/plain": [
       "<AxesSubplot:xlabel='rev', ylabel='Count'>"
      ]
     },
     "execution_count": 58,
     "metadata": {},
     "output_type": "execute_result"
    },
    {
     "data": {
      "image/png": "[encoded data removed]",
      "text/plain": [
       "<Figure size 432x288 with 1 Axes>"
      ]
     },
     "metadata": {},
     "output_type": "display_data"
    }
   ],
   "source": [
    "# Смотрим на распределения значений сумм оплат для каждой группы.\n",
    "\n",
    "sns.histplot(data=data.query('rev>0'), x=\"rev\", hue=\"grp\", palette='magma')\n",
    "\n",
    "# Распределения явно отличаются от нормального."
   ]
  },
  {
   "cell_type": "code",
   "execution_count": 59,
   "id": "85d8b24d",
   "metadata": {},
   "outputs": [
    {
     "data": {
      "text/plain": [
       "<AxesSubplot:xlabel='grp', ylabel='rev'>"
      ]
     },
     "execution_count": 59,
     "metadata": {},
     "output_type": "execute_result"
    },
    {
     "data": {
      "image/png": "[encoded data removed]",
      "text/plain": [
       "<Figure size 432x288 with 1 Axes>"
      ]
     },
     "metadata": {},
     "output_type": "display_data"
    }
   ],
   "source": [
    "# На графике типа boxplot видны \"выбросы\" (не совсем выбросы, ведь это реальные суммы оплат, но в контексте общего распределения данных - \"выбросы\").\n",
    "\n",
    "sns.boxplot(x='grp', y='rev', data=data.query('rev>0'), palette='magma')"
   ]
  },
  {
   "cell_type": "markdown",
   "id": "8983a67f",
   "metadata": {},
   "source": [
    "Тест Шапиро-Уилка для проверки нормальности распределений.\n",
    "\n",
    "Н0 : величина rev распределена нормально;\\\n",
    "Н1 : величина rev распределена не нормально."
   ]
  },
  {
   "cell_type": "code",
   "execution_count": 60,
   "id": "c2ea2cba",
   "metadata": {},
   "outputs": [],
   "source": [
    "# Предобработка данных. Сохраняю значения сумм оплат по группам в отдельные переменные.\n",
    "\n",
    "dataA = data.query('rev>0 & grp == \"A\"').rev\n",
    "dataB = data.query('rev>0 & grp == \"B\"').rev"
   ]
  },
  {
   "cell_type": "code",
   "execution_count": 61,
   "id": "bba5519f",
   "metadata": {},
   "outputs": [
    {
     "data": {
      "text/plain": [
       "ShapiroResult(statistic=0.7353236079216003, pvalue=1.4986822893803264e-10)"
      ]
     },
     "execution_count": 61,
     "metadata": {},
     "output_type": "execute_result"
    }
   ],
   "source": [
    "# Тест Шапиро-Уилка для группы А.\n",
    "\n",
    "stats.shapiro(dataA)"
   ]
  },
  {
   "cell_type": "code",
   "execution_count": 62,
   "id": "08617415",
   "metadata": {},
   "outputs": [
    {
     "data": {
      "text/plain": [
       "True"
      ]
     },
     "execution_count": 62,
     "metadata": {},
     "output_type": "execute_result"
    }
   ],
   "source": [
    "stats.shapiro(dataA)[1] < 0.05\n",
    "\n",
    "# Отклоняем Н0, данные имеют не нормальное распределение (при α = 0.05)."
   ]
  },
  {
   "cell_type": "code",
   "execution_count": 63,
   "id": "462e2735",
   "metadata": {},
   "outputs": [
    {
     "data": {
      "text/plain": [
       "ShapiroResult(statistic=0.8547235727310181, pvalue=1.5437024585965894e-16)"
      ]
     },
     "execution_count": 63,
     "metadata": {},
     "output_type": "execute_result"
    }
   ],
   "source": [
    "# Тест Шапиро-Уилка для группы В.\n",
    "\n",
    "stats.shapiro(dataB)"
   ]
  },
  {
   "cell_type": "code",
   "execution_count": 64,
   "id": "907e8eb9",
   "metadata": {},
   "outputs": [
    {
     "data": {
      "text/plain": [
       "True"
      ]
     },
     "execution_count": 64,
     "metadata": {},
     "output_type": "execute_result"
    }
   ],
   "source": [
    "stats.shapiro(dataB)[1] < 0.05\n",
    "\n",
    "# Отклоняем Н0, данные имеют не нормальное распределение (при α = 0.05)."
   ]
  },
  {
   "cell_type": "markdown",
   "id": "9b584ffe",
   "metadata": {},
   "source": [
    "Тест Левена для проверки гомогенности дисперсии.\n",
    "\n",
    "Н0 : дисперсии совокупностей, из которых взяты выборки контрольной и целевой групп, одинаковы;\\\n",
    "Н1 : дисперсии отличаются."
   ]
  },
  {
   "cell_type": "code",
   "execution_count": 65,
   "id": "b20cd742",
   "metadata": {},
   "outputs": [
    {
     "data": {
      "text/plain": [
       "LeveneResult(statistic=3.075681699981606, pvalue=0.08025675761347022)"
      ]
     },
     "execution_count": 65,
     "metadata": {},
     "output_type": "execute_result"
    }
   ],
   "source": [
    "stats.levene(dataA, dataB)"
   ]
  },
  {
   "cell_type": "code",
   "execution_count": 66,
   "id": "605901bc",
   "metadata": {},
   "outputs": [
    {
     "data": {
      "text/plain": [
       "False"
      ]
     },
     "execution_count": 66,
     "metadata": {},
     "output_type": "execute_result"
    }
   ],
   "source": [
    "stats.levene(dataA, dataB)[1] < 0.05\n",
    "\n",
    "# принимаем Н0, дисперсии примерно одинаковы (при α = 0.05)."
   ]
  },
  {
   "cell_type": "code",
   "execution_count": 67,
   "id": "6be96bf6",
   "metadata": {},
   "outputs": [
    {
     "data": {
      "text/plain": [
       "[846276.1931401932, 625466.2680387263]"
      ]
     },
     "execution_count": 67,
     "metadata": {},
     "output_type": "execute_result"
    }
   ],
   "source": [
    "# Дисперсия каждой группы.\n",
    "\n",
    "[np.var(x, ddof=1) for x in [dataA, dataB]]"
   ]
  },
  {
   "cell_type": "markdown",
   "id": "3ace57d2",
   "metadata": {},
   "source": [
    "t-тест на больших выборках стабильно работает, даже если не соблюдается требование нормальности распределения (работает ЦПТ) -> с одной стороны наш случай, с другой стороны с ненормально распределенными данными и пограничными результатами теста на однородность дисперсии (pvalue=0.08) безопаснее выбрать бутстрап или непарметрический аналог t-теста.\n",
    "\n",
    "Однако в нашем случае мощность непараметрического аналога U-критерия Манна-Уитни будет страдать из-за большой разницы в размерах выборок, да и интерпретировать результаты этого теста сложнее, т.к. сравниваются распределения.\n",
    "\n",
    "Поэтому мой выбор в данном случае - бутстрап."
   ]
  },
  {
   "cell_type": "markdown",
   "id": "e47be116",
   "metadata": {},
   "source": [
    "H0 : средние значения оплат двух групп (А, В) не отличаются;\\\n",
    "H1 : средние значения оплат двух групп (А, В) отличаются."
   ]
  },
  {
   "cell_type": "code",
   "execution_count": 68,
   "id": "a94a256c",
   "metadata": {},
   "outputs": [],
   "source": [
    "# Объявим функцию для проведения botstrap анализа\n",
    "def get_bootstrap(\n",
    "    data_column_1, # числовые значения первой выборки\n",
    "    data_column_2, # числовые значения второй выборки\n",
    "    boot_it = 1000, # количество бутстрэп-подвыборок\n",
    "    statistic = np.mean, # интересующая нас статистика\n",
    "    bootstrap_conf_level = 0.95 # уровень значимости\n",
    "):\n",
    "    boot_len = max([len(data_column_1), len(data_column_2)])\n",
    "    boot_data = []\n",
    "    for i in tqdm(range(boot_it)): # извлекаем подвыборки\n",
    "        samples_1 = data_column_1.sample(\n",
    "            boot_len, \n",
    "            replace = True # параметр возвращения\n",
    "        ).values\n",
    "        \n",
    "        samples_2 = data_column_2.sample(\n",
    "            boot_len, \n",
    "            replace = True\n",
    "        ).values\n",
    "        \n",
    "        boot_data.append(statistic(samples_1-samples_2)) # mean() - применяем статистику\n",
    "        \n",
    "    pd_boot_data = pd.DataFrame(boot_data)\n",
    "        \n",
    "    left_quant = (1 - bootstrap_conf_level)/2\n",
    "    right_quant = 1 - (1 - bootstrap_conf_level) / 2\n",
    "    ci = pd_boot_data.quantile([left_quant, right_quant])\n",
    "        \n",
    "    p_1 = stats.norm.cdf(\n",
    "        x = 0, \n",
    "        loc = np.mean(boot_data), \n",
    "        scale = np.std(boot_data)\n",
    "    )\n",
    "    p_2 = stats.norm.cdf(\n",
    "        x = 0, \n",
    "        loc = -np.mean(boot_data), \n",
    "        scale = np.std(boot_data)\n",
    "    )\n",
    "    p_value = min(p_1, p_2) * 2\n",
    "        \n",
    "    # Визуализация\n",
    "    plt.hist(pd_boot_data[0], bins = 50)\n",
    "    \n",
    "    plt.style.use('ggplot')\n",
    "    plt.vlines(ci,ymin=0,ymax=100,linestyle='--')\n",
    "    plt.xlabel('boot_data')\n",
    "    plt.ylabel('frequency')\n",
    "    plt.title(\"Histogram of boot_data\")\n",
    "    plt.show()\n",
    "       \n",
    "    return {\"boot_data\": boot_data, \n",
    "            \"ci\": ci, \n",
    "            \"p_value\": p_value}"
   ]
  },
  {
   "cell_type": "code",
   "execution_count": 69,
   "id": "54effcef",
   "metadata": {},
   "outputs": [
    {
     "data": {
      "application/vnd.jupyter.widget-view+json": {
       "model_id": "6080e0ccabd04772904a878af230333f",
       "version_major": 2,
       "version_minor": 0
      },
      "text/plain": [
       "  0%|          | 0/2000 [00:00<?, ?it/s]"
      ]
     },
     "metadata": {},
     "output_type": "display_data"
    },
    {
     "data": {
      "image/png": "[encoded data removed]",
      "text/plain": [
       "<Figure size 432x288 with 1 Axes>"
      ]
     },
     "metadata": {},
     "output_type": "display_data"
    },
    {
     "name": "stdout",
     "output_type": "stream",
     "text": [
      "p-value = 2.2328941129882266e-06\n"
     ]
    }
   ],
   "source": [
    "booted_data = get_bootstrap(dataA, dataB, boot_it=2000)\n",
    "print(f'p-value = {booted_data[\"p_value\"]}')"
   ]
  },
  {
   "cell_type": "markdown",
   "id": "da062e8e",
   "metadata": {},
   "source": [
    "p-value < 0.05, 0 не попадает в доверительный интервал при заданном уровне значимости 95% -> отклоняем нулевую гипотезу о равенстве средних значений оплат в группах."
   ]
  },
  {
   "cell_type": "markdown",
   "id": "89400a5f",
   "metadata": {},
   "source": [
    "В целевой группе CR ниже, чем в контрольной.\n",
    "Проверю, статистически достоверны эти различия или нет.\n",
    "\n",
    "H0 : взаимосвязи между группой эксперимента и количеством покупок нет;\\\n",
    "H1 : существует взаимосвязь между группой эксперимента и количеством покупок.\n",
    "\n",
    "Т.к. данные категориальные для проверки гипотез буду использовать таблицу сопряженности и критерий хи-квадрат."
   ]
  },
  {
   "cell_type": "code",
   "execution_count": 70,
   "id": "2237a131",
   "metadata": {},
   "outputs": [],
   "source": [
    "# Добавляю столбец buy, который имеет два уровня: 1-есть оплата, 0-нет оплаты.\n",
    "\n",
    "data['buy'] = data.rev.apply(lambda x: 1 if x>0 else 0)"
   ]
  },
  {
   "cell_type": "code",
   "execution_count": 71,
   "id": "14454293",
   "metadata": {},
   "outputs": [
    {
     "data": {
      "text/html": [
       "<div>\n",
       "<style scoped>\n",
       "    .dataframe tbody tr th:only-of-type {\n",
       "        vertical-align: middle;\n",
       "    }\n",
       "\n",
       "    .dataframe tbody tr th {\n",
       "        vertical-align: top;\n",
       "    }\n",
       "\n",
       "    .dataframe thead th {\n",
       "        text-align: right;\n",
       "    }\n",
       "</style>\n",
       "<table border=\"1\" class=\"dataframe\">\n",
       "  <thead>\n",
       "    <tr style=\"text-align: right;\">\n",
       "      <th>buy</th>\n",
       "      <th>0</th>\n",
       "      <th>1</th>\n",
       "    </tr>\n",
       "    <tr>\n",
       "      <th>grp</th>\n",
       "      <th></th>\n",
       "      <th></th>\n",
       "    </tr>\n",
       "  </thead>\n",
       "  <tbody>\n",
       "    <tr>\n",
       "      <th>A</th>\n",
       "      <td>1460</td>\n",
       "      <td>78</td>\n",
       "    </tr>\n",
       "    <tr>\n",
       "      <th>B</th>\n",
       "      <td>6489</td>\n",
       "      <td>314</td>\n",
       "    </tr>\n",
       "  </tbody>\n",
       "</table>\n",
       "</div>"
      ],
      "text/plain": [
       "buy     0    1\n",
       "grp           \n",
       "A    1460   78\n",
       "B    6489  314"
      ]
     },
     "execution_count": 71,
     "metadata": {},
     "output_type": "execute_result"
    }
   ],
   "source": [
    "# Строю таблицу сопряженности.\n",
    "\n",
    "data_CR = pd.crosstab(data.grp, data.buy)\n",
    "data_CR"
   ]
  },
  {
   "cell_type": "code",
   "execution_count": 72,
   "id": "0b22a501",
   "metadata": {},
   "outputs": [],
   "source": [
    "# Расчет статистики, p-value.\n",
    "\n",
    "stat, p, dof, expected = stats.chi2_contingency(data_CR)"
   ]
  },
  {
   "cell_type": "code",
   "execution_count": 73,
   "id": "86acb6e1",
   "metadata": {},
   "outputs": [
    {
     "data": {
      "text/plain": [
       "(0.48480826522557896, 0.48625240457231045)"
      ]
     },
     "execution_count": 73,
     "metadata": {},
     "output_type": "execute_result"
    }
   ],
   "source": [
    "stat, p"
   ]
  },
  {
   "cell_type": "code",
   "execution_count": 74,
   "id": "3254310b",
   "metadata": {},
   "outputs": [
    {
     "name": "stdout",
     "output_type": "stream",
     "text": [
      "Не отклоняем H0\n"
     ]
    }
   ],
   "source": [
    "# Результаты.\n",
    "\n",
    "prob = 0.95\n",
    "alpha = 1.0 - prob\n",
    "if p <= alpha:\n",
    "    print('Отклоняем H0')\n",
    "else:\n",
    "    print('Не отклоняем H0')"
   ]
  },
  {
   "cell_type": "markdown",
   "id": "ffd19b55",
   "metadata": {},
   "source": [
    "Взаимосвязь между группой эксперимента и количеством покупок не была обнаружена в данном эксперименте при заданном уровне значимости."
   ]
  },
  {
   "cell_type": "markdown",
   "id": "ce50ffd7",
   "metadata": {},
   "source": [
    "**Вывод:**\n",
    "\n",
    "В целом в целевой группе статзначимо вырос средний чек в сравнении с контрольной группой,\n",
    "в то время как конверсия упала, но различия оказались незначимы -> можно запускать новую механику оплаты на всех пользователей.\n",
    "\n",
    "Однако интересной особенностью данных является пик в целевой группе в районе 1900у.е. Кажется, что следует собрать дополнительную информацию о пользователях и деталях покупок, кластеризовать -> возможно получится выявить группу пользователей или группу услуг, которая и соответствует этому пику. Провести соответствующий анализ и тогда, возможно, эффективнее и целесообразнее будет запускать новую механику оплаты именно на эту группу пользователей/тип услуги.\n"
   ]
  },
  {
   "cell_type": "markdown",
   "id": "a13a7ce8",
   "metadata": {},
   "source": [
    "## Задание 2. SQL"
   ]
  },
  {
   "cell_type": "code",
   "execution_count": 75,
   "id": "266aebfa",
   "metadata": {},
   "outputs": [],
   "source": [
    "connection_default = {'host': 'your_host',\n",
    "                      'database':'your_database',\n",
    "                      'user':'your_user', \n",
    "                      'password':'your_password'\n",
    "                     }"
   ]
  },
  {
   "cell_type": "markdown",
   "id": "a730a025",
   "metadata": {},
   "source": [
    "**2.1 Очень усердные ученики.**"
   ]
  },
  {
   "cell_type": "markdown",
   "id": "ed4ee41f",
   "metadata": {},
   "source": [
    "Образовательные курсы состоят из различных уроков, каждый из которых состоит из нескольких маленьких заданий. Каждое такое маленькое задание называется \"горошиной\".\n",
    "\n",
    "Назовём очень усердным учеником того пользователя, который хотя бы раз за текущий месяц правильно решил 20 горошин.\n",
    "\n",
    "Необходимо написать оптимальный запрос, который даст информацию о количестве очень усердных студентов за март 2020 года.\n",
    "\n",
    "NB! Под усердным студентом мы понимаем студента, который правильно решил 20 задач за текущий месяц."
   ]
  },
  {
   "cell_type": "code",
   "execution_count": 76,
   "id": "291fac6b",
   "metadata": {},
   "outputs": [],
   "source": [
    "q_1 = '''\n",
    "    SELECT\n",
    "        COUNT(diligent_students) AS diligent_students_count\n",
    "    FROM(\n",
    "        SELECT \n",
    "            st_id AS diligent_students\n",
    "        FROM \n",
    "            peas\n",
    "        WHERE\n",
    "            toStartOfMonth(timest) = '2020-03-01' AND\n",
    "            correct = 1 \n",
    "        GROUP BY\n",
    "            st_id\n",
    "        HAVING COUNT(correct)>=20\n",
    "        )\n",
    "    '''"
   ]
  },
  {
   "cell_type": "code",
   "execution_count": 77,
   "id": "b5cfa941",
   "metadata": {},
   "outputs": [
    {
     "data": {
      "text/html": [
       "<div>\n",
       "<style scoped>\n",
       "    .dataframe tbody tr th:only-of-type {\n",
       "        vertical-align: middle;\n",
       "    }\n",
       "\n",
       "    .dataframe tbody tr th {\n",
       "        vertical-align: top;\n",
       "    }\n",
       "\n",
       "    .dataframe thead th {\n",
       "        text-align: right;\n",
       "    }\n",
       "</style>\n",
       "<table border=\"1\" class=\"dataframe\">\n",
       "  <thead>\n",
       "    <tr style=\"text-align: right;\">\n",
       "      <th></th>\n",
       "      <th>diligent_students_count</th>\n",
       "    </tr>\n",
       "  </thead>\n",
       "  <tbody>\n",
       "    <tr>\n",
       "      <th>0</th>\n",
       "      <td>0</td>\n",
       "    </tr>\n",
       "  </tbody>\n",
       "</table>\n",
       "</div>"
      ],
      "text/plain": [
       "   diligent_students_count\n",
       "0                        0"
      ]
     },
     "execution_count": 77,
     "metadata": {},
     "output_type": "execute_result"
    }
   ],
   "source": [
    "ph.read_clickhouse(query=q_1, connection=connection_default)"
   ]
  },
  {
   "cell_type": "markdown",
   "id": "2b596e59",
   "metadata": {},
   "source": [
    "**2.2 Оптимизация воронки**"
   ]
  },
  {
   "cell_type": "markdown",
   "id": "45d98f73",
   "metadata": {},
   "source": [
    "Образовательная платформа предлагает пройти студентам курсы по модели trial: студент может решить бесплатно лишь 30 горошин в день. Для неограниченного количества заданий в определенной дисциплине студенту необходимо приобрести полный доступ. Команда провела эксперимент, где был протестирован новый экран оплаты.\n",
    "\n",
    "Необходимо в одном запросе выгрузить следующую информацию о группах пользователей: ARPU, ARPAU, CR в покупку, СR активного пользователя в покупку, CR пользователя из активности по математике (subject = ’math’) в покупку курса по математике."
   ]
  },
  {
   "cell_type": "markdown",
   "id": "2083af9a",
   "metadata": {},
   "source": [
    "В этом задании (для получения более интересных результатов, тренировки навыков, и поскольку не была прописана четкая логика по отнесению каждого пользователя к определенной группе в испытании (в данных есть аномалии: каждый пользователь есть и в old, и в new группах)), я отнесла каждого пользователя к определенной группе (old, new) по частоте их представленности (old, new) в таблице studs.\n",
    "\n",
    "В этом задании под **активным** пользователем (для получения более интересных результатов) я принимала пользователя, который **совершал** \"действия\" в рамках курсов, которые он купил, также пользователь был активен на сайте **за последний месяц (именно solution_time)**. я отталкивалась от следующего: если пользователь покупает курс, но не проходит его (нет никакой активности), то интерес к платформе у него быстро угаснет, несмотря на то, что изначально мы заработали на нем, он не перейдет в категорию лояльных пользователей. (Хотя для полноценной реализации этой логики не хватает данных, скорее я хотела потренировать свои навыки).\n",
    "\n",
    "ПС: запрос был бы меньше, если бы в СУБД для студентов были права для создания представлений."
   ]
  },
  {
   "cell_type": "code",
   "execution_count": 78,
   "id": "50db498d",
   "metadata": {},
   "outputs": [],
   "source": [
    "q_2 = '''\n",
    "    WITH\n",
    "    active AS (\n",
    "\n",
    "    SELECT\n",
    "        st_id AS active_st_id,\n",
    "        COUNT(DISTINCT(subject_buy)) AS buy,\n",
    "        COUNT(DISTINCT(subject_solution)) AS try,\n",
    "        groupArray(DISTINCT(subject_buy)) AS array_buy,\n",
    "        groupArray(DISTINCT(subject_solution)) AS array_try,\n",
    "        hasAll(array_try, array_buy) AS active_users\n",
    "    FROM(\n",
    "\n",
    "    SELECT\n",
    "        l.st_id AS st_id,\n",
    "        l.sale_time AS sale_time,\n",
    "        l.money AS money,\n",
    "        l.subject_buy AS subject_buy,\n",
    "        l.solution_time AS solution_time,\n",
    "        l.correct AS correct,\n",
    "        l.subject_solution AS subject_solution,\n",
    "        r.test_grp AS test_grp,\n",
    "        IF(subject_solution = 'Math', 1, 0) AS math_active,\n",
    "        IF(subject_buy = 'Math', 1, 0) AS math_buy\n",
    "    FROM(\n",
    "        SELECT\n",
    "            l.st_id AS st_id,\n",
    "            l.sale_time AS sale_time,\n",
    "            l.money AS money,\n",
    "            l.subject AS subject_buy,\n",
    "            r.timest AS solution_time,\n",
    "            r.correct AS correct,\n",
    "            r.subject AS subject_solution\n",
    "        FROM(\n",
    "            SELECT\n",
    "                st_id,\n",
    "                sale_time,\n",
    "                money,\n",
    "                subject,\n",
    "                rowNumberInAllBlocks( ) AS row\n",
    "            FROM \n",
    "                final_project_check\n",
    "            ) AS l\n",
    "        JOIN \n",
    "        (\n",
    "            SELECT \n",
    "                *,\n",
    "                rowNumberInAllBlocks( ) AS row\n",
    "            FROM\n",
    "                peas\n",
    "        ) AS r \n",
    "        USING(row)) AS l\n",
    "    LEFT SEMI JOIN (\n",
    "        SELECT\n",
    "            st_id,\n",
    "            test_grp,\n",
    "            count(*) AS c\n",
    "        FROM \n",
    "            studs\n",
    "        GROUP BY\n",
    "            st_id,\n",
    "            test_grp\n",
    "        ORDER BY \n",
    "            st_id,\n",
    "            c DESC\n",
    "        ) AS r\n",
    "        USING(st_id)\n",
    "\n",
    "    )\n",
    "    GROUP BY \n",
    "        st_id\n",
    "    HAVING\n",
    "        active_users=1\n",
    "    )\n",
    "\n",
    "\n",
    "    SELECT\n",
    "    --    count(DISTINCT(st_id)) AS students_in_grp,\n",
    "        ROUND(SUM(money)/count(DISTINCT(st_id)), 2) AS ARPU,\n",
    "        ROUND(sumIf(money, active_students=1)/count(DISTINCT(st_id)), 2) AS ARPAU,\n",
    "    --    countIf(DISTINCT(st_id), math_active=1) AS math_act,\n",
    "    --    countIf(DISTINCT(st_id), math_active=1 AND math_buy=1) AS math_act_buy,\n",
    "    --    ROUND(math_act_buy/math_act*100, 2) AS CR_math,\n",
    "        ROUND(countIf(DISTINCT(st_id), math_active=1 AND math_buy=1)/countIf(DISTINCT(st_id), math_active=1)*100, 2) AS CR_math,\n",
    "    --    countIf(DISTINCT(st_id), active_students=1 AND dateDiff('day', solution_time, toDate('2020-12-01')) <= 30) AS active_buy,\n",
    "    --    countIF(DISTINCT(st_id), dateDiff('day', solution_time, toDate('2020-12-01')) <= 30) AS active_student,\n",
    "        ROUND(countIf(DISTINCT(st_id), active_students=1 AND dateDiff('day', solution_time, toDate('2020-12-01')) <= 30)/countIF(DISTINCT(st_id), dateDiff('day', solution_time, toDate('2020-12-01')) <= 30)*100, 2) AS CR_active,\n",
    "        ROUND(countIf(DISTINCT(st_id), money>0)/COUNT(DISTINCT(st_id))*100, 2) AS CR,\n",
    "        test_grp\n",
    "    FROM(\n",
    "        SELECT\n",
    "            l.st_id AS st_id,\n",
    "            l.sale_time AS sale_time,\n",
    "            l.money AS money,\n",
    "            l.subject_buy AS subject_buy,\n",
    "            l.solution_time AS solution_time,\n",
    "            l.correct AS correct,\n",
    "            l.subject_solution AS subject_solution,\n",
    "            r.test_grp AS test_grp,\n",
    "            IF(subject_solution = 'Math', 1, 0) AS math_active,\n",
    "            IF(subject_buy = 'Math', 1, 0) AS math_buy,\n",
    "            IF(st_id IN (SELECT active_st_id FROM active), 1, 0) AS active_students\n",
    "        FROM(\n",
    "            SELECT\n",
    "                l.st_id AS st_id,\n",
    "                l.sale_time AS sale_time,\n",
    "                l.money AS money,\n",
    "                l.subject AS subject_buy,\n",
    "                r.timest AS solution_time,\n",
    "                r.correct AS correct,\n",
    "                r.subject AS subject_solution\n",
    "            FROM(\n",
    "                SELECT\n",
    "                    st_id,\n",
    "                    sale_time,\n",
    "                    money,\n",
    "                    subject,\n",
    "                    rowNumberInAllBlocks( ) AS row\n",
    "                FROM \n",
    "                    final_project_check\n",
    "                ) AS l\n",
    "            JOIN \n",
    "            (\n",
    "                SELECT \n",
    "                    *,\n",
    "                    rowNumberInAllBlocks( ) AS row\n",
    "                FROM\n",
    "                    peas\n",
    "            ) AS r \n",
    "            USING(row)) AS l\n",
    "        LEFT SEMI JOIN (\n",
    "            SELECT\n",
    "                st_id,\n",
    "                test_grp,\n",
    "                count(*) AS c\n",
    "            FROM \n",
    "                studs\n",
    "            GROUP BY\n",
    "                st_id,\n",
    "                test_grp\n",
    "            ORDER BY \n",
    "                st_id,\n",
    "                c DESC\n",
    "            ) AS r\n",
    "            USING(st_id)\n",
    "        )\n",
    "    GROUP BY test_grp\n",
    "    '''"
   ]
  },
  {
   "cell_type": "code",
   "execution_count": null,
   "id": "62108b30",
   "metadata": {},
   "outputs": [],
   "source": [
    "ph.read_clickhouse(query=q_2, connection=connection_default)"
   ]
  },
  {
   "cell_type": "markdown",
   "id": "7c787ecf",
   "metadata": {},
   "source": [
    "## Задание 3. Python"
   ]
  },
  {
   "cell_type": "markdown",
   "id": "3bd025de",
   "metadata": {},
   "source": [
    "**3.1**\n",
    "\n",
    "Реализуйте функцию, которая будет автоматически подгружать информацию из дополнительного файла groups_add.csv (заголовки могут отличаться) и на основании дополнительных параметров пересчитывать метрики."
   ]
  },
  {
   "cell_type": "code",
   "execution_count": null,
   "id": "894fcd91",
   "metadata": {},
   "outputs": [],
   "source": []
  },
  {
   "cell_type": "code",
   "execution_count": 80,
   "id": "b0274b27",
   "metadata": {},
   "outputs": [],
   "source": [
    "def get_metrics(additional_data_path):\n",
    "    \n",
    "    # считываем дополнительный файл\n",
    "    additional_data = pd.read_csv(additional_data_path)\n",
    "    \n",
    "    # объединяем его с основной таблицей\n",
    "    data_concatenated = pd.concat([groups, additional_data], axis=0)\n",
    "    \n",
    "    # отбираем активных юзеров согласно данным из таблицы active_studs\n",
    "    data_filtered = data_concatenated.loc[data_concatenated.id.isin(active_studs.student_id)]\n",
    "    \n",
    "    \"\"\"\n",
    "    мержим таблицу с информацией об оплатах\n",
    "    считаем, что структура таблиц постоянна: 1ая колонка - id\n",
    "    т.к. в условии сказано, что заголовки могут отличаться, id студентов переводим в индексы, мерджим \n",
    "    таблицы по индексам\n",
    "    \"\"\"\n",
    "    data_filtered = data_filtered.set_index(data_filtered.iloc[:,0]).drop(data_filtered.columns[[0]], axis=1)\n",
    "    checks_m = checks.set_index(checks.iloc[:,0]).drop(checks.columns[[0]], axis=1)\n",
    "    data_all = pd.merge(data_filtered, checks_m, how = 'left', left_index=True, right_index=True).fillna(0).reset_index()\n",
    "    \n",
    "    # добавляем колонку buy, которая имеет 2 уровня: 1-есть оплата, 0-нет оплаты\n",
    "    data_all['buy'] = data_all.rev.apply(lambda x: 1 if x>0 else 0)\n",
    "    \n",
    "    # расчет метрик\n",
    "    # сколько пользователей посетило платформу (visits) и сколько оплатило услуги (buys)\n",
    "    metrics_data = data_all \\\n",
    "                        .groupby('grp', as_index=False) \\\n",
    "                        .agg({'id':'count', 'buy':'sum', 'rev':'sum'}) \\\n",
    "                        .rename(columns={'id':'visits', 'buy':'buys', 'rev':'revenue', 'grp':'group'})\n",
    "    \n",
    "    # CR\n",
    "    metrics_data['CR'] = metrics_data.buys / metrics_data.visits\n",
    "    \n",
    "    # средний чек\n",
    "    metrics_data['aver_check'] = round(metrics_data.revenue / metrics_data.buys, 2)\n",
    "    \n",
    "    # повторные покупки \n",
    "    metrics_data['repeat_purchases'] = metrics_data.buys / metrics_data.buys\n",
    "    \n",
    "    # ARPPU\n",
    "    metrics_data['ARPPU'] = metrics_data.aver_check * metrics_data.repeat_purchases\n",
    "    \n",
    "    # ARPU\n",
    "    metrics_data['ARPU'] = round(metrics_data.CR * metrics_data.ARPPU, 2)\n",
    "    \n",
    "    return metrics_data\n"
   ]
  },
  {
   "cell_type": "code",
   "execution_count": 81,
   "id": "c8ff0ee9",
   "metadata": {},
   "outputs": [],
   "source": [
    "metrics_data = get_metrics(additional_data_path='/home/alla/Downloads/Проект_2_group_add.csv')"
   ]
  },
  {
   "cell_type": "code",
   "execution_count": 82,
   "id": "eb7a4270",
   "metadata": {},
   "outputs": [
    {
     "data": {
      "text/html": [
       "<div>\n",
       "<style scoped>\n",
       "    .dataframe tbody tr th:only-of-type {\n",
       "        vertical-align: middle;\n",
       "    }\n",
       "\n",
       "    .dataframe tbody tr th {\n",
       "        vertical-align: top;\n",
       "    }\n",
       "\n",
       "    .dataframe thead th {\n",
       "        text-align: right;\n",
       "    }\n",
       "</style>\n",
       "<table border=\"1\" class=\"dataframe\">\n",
       "  <thead>\n",
       "    <tr style=\"text-align: right;\">\n",
       "      <th></th>\n",
       "      <th>group</th>\n",
       "      <th>visits</th>\n",
       "      <th>buys</th>\n",
       "      <th>revenue</th>\n",
       "      <th>CR</th>\n",
       "      <th>aver_check</th>\n",
       "      <th>repeat_purchases</th>\n",
       "      <th>ARPPU</th>\n",
       "      <th>ARPU</th>\n",
       "    </tr>\n",
       "  </thead>\n",
       "  <tbody>\n",
       "    <tr>\n",
       "      <th>0</th>\n",
       "      <td>A</td>\n",
       "      <td>1538</td>\n",
       "      <td>78</td>\n",
       "      <td>72820.0000</td>\n",
       "      <td>0.050715</td>\n",
       "      <td>933.59</td>\n",
       "      <td>1.0</td>\n",
       "      <td>933.59</td>\n",
       "      <td>47.35</td>\n",
       "    </tr>\n",
       "    <tr>\n",
       "      <th>1</th>\n",
       "      <td>B</td>\n",
       "      <td>6803</td>\n",
       "      <td>314</td>\n",
       "      <td>394974.0035</td>\n",
       "      <td>0.046156</td>\n",
       "      <td>1257.88</td>\n",
       "      <td>1.0</td>\n",
       "      <td>1257.88</td>\n",
       "      <td>58.06</td>\n",
       "    </tr>\n",
       "  </tbody>\n",
       "</table>\n",
       "</div>"
      ],
      "text/plain": [
       "  group  visits  buys      revenue        CR  aver_check  repeat_purchases  \\\n",
       "0     A    1538    78   72820.0000  0.050715      933.59               1.0   \n",
       "1     B    6803   314  394974.0035  0.046156     1257.88               1.0   \n",
       "\n",
       "     ARPPU   ARPU  \n",
       "0   933.59  47.35  \n",
       "1  1257.88  58.06  "
      ]
     },
     "execution_count": 82,
     "metadata": {},
     "output_type": "execute_result"
    }
   ],
   "source": [
    "metrics_data"
   ]
  },
  {
   "cell_type": "markdown",
   "id": "e9ad35d9",
   "metadata": {},
   "source": [
    "**3.2**\n",
    "\n",
    "Реализуйте функцию, которая будет строить графики по получаемым метрикам."
   ]
  },
  {
   "cell_type": "code",
   "execution_count": 83,
   "id": "7e920ae0",
   "metadata": {},
   "outputs": [],
   "source": [
    "def get_plots(metrics_data):\n",
    "    fig, ax = plt.subplots(nrows=2, ncols=2, figsize=(8, 13))\n",
    "    sns.barplot(x =metrics_data.group, y = metrics_data.aver_check, ax=ax[0][0], palette='magma').set_title('Average check').axes.get_yaxis().set_visible(False)\n",
    "    sns.barplot(x =metrics_data.group, y = metrics_data.CR, ax=ax[0][1], palette='magma').set_title('CR').axes.get_yaxis().set_visible(False)\n",
    "    sns.barplot(x =metrics_data.group, y = metrics_data.ARPPU, ax=ax[1][0], palette='magma').set_title('ARPPU').axes.get_yaxis().set_visible(False)\n",
    "    sns.barplot(x =metrics_data.group, y = metrics_data.ARPU, ax=ax[1][1], palette='magma').set_title('ARPU').axes.get_yaxis().set_visible(False)"
   ]
  },
  {
   "cell_type": "code",
   "execution_count": 84,
   "id": "efe21a5d",
   "metadata": {},
   "outputs": [
    {
     "data": {
      "image/png": "[encoded data removed]",
      "text/plain": [
       "<Figure size 576x936 with 4 Axes>"
      ]
     },
     "metadata": {},
     "output_type": "display_data"
    }
   ],
   "source": [
    "get_plots(metrics_data)"
   ]
  }
 ],
 "metadata": {
  "kernelspec": {
   "display_name": "Python 3 (ipykernel)",
   "language": "python",
   "name": "python3"
  },
  "language_info": {
   "codemirror_mode": {
    "name": "ipython",
    "version": 3
   },
   "file_extension": ".py",
   "mimetype": "text/x-python",
   "name": "python",
   "nbconvert_exporter": "python",
   "pygments_lexer": "ipython3",
   "version": "3.10.4"
  }
 },
 "nbformat": 4,
 "nbformat_minor": 5
}
